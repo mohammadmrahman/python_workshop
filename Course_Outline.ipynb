{
  "nbformat": 4,
  "nbformat_minor": 0,
  "metadata": {
    "colab": {
      "name": "Course Outline.ipynb",
      "provenance": [],
      "authorship_tag": "ABX9TyNhX/nMmPjO2YE9XxJfduEr",
      "include_colab_link": true
    },
    "kernelspec": {
      "name": "python3",
      "display_name": "Python 3"
    }
  },
  "cells": [
    {
      "cell_type": "markdown",
      "metadata": {
        "id": "view-in-github",
        "colab_type": "text"
      },
      "source": [
        "<a href=\"https://colab.research.google.com/github/mohammadmotiurrahman/python_workshop/blob/main/Course_Outline.ipynb\" target=\"_parent\"><img src=\"https://colab.research.google.com/assets/colab-badge.svg\" alt=\"Open In Colab\"/></a>"
      ]
    },
    {
      "cell_type": "markdown",
      "metadata": {
        "id": "cw9Ibxv5DObA"
      },
      "source": [
        "#Course outline"
      ]
    },
    {
      "cell_type": "markdown",
      "metadata": {
        "id": "KC1mKdefFRjx"
      },
      "source": [
        "##..."
      ]
    },
    {
      "cell_type": "code",
      "metadata": {
        "id": "eulHxRMeFUkK"
      },
      "source": [
        ""
      ],
      "execution_count": null,
      "outputs": []
    }
  ]
}